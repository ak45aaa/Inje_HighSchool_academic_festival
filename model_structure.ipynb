{
 "cells": [
  {
   "cell_type": "code",
   "execution_count": 2,
   "metadata": {},
   "outputs": [],
   "source": [
    "from graphviz import Digraph"
   ]
  },
  {
   "cell_type": "code",
   "execution_count": 14,
   "metadata": {},
   "outputs": [
    {
     "data": {
      "text/plain": [
       "'network_diagram.png'"
      ]
     },
     "execution_count": 14,
     "metadata": {},
     "output_type": "execute_result"
    }
   ],
   "source": [
    "from graphviz import Digraph\n",
    "\n",
    "dot = Digraph(graph_attr={'rankdir': 'LR'})\n",
    "\n",
    "with dot.subgraph(name='cluster_convolution_layer') as conv:\n",
    "    conv.node(\"image\", 'Image')\n",
    "    conv.node(\"conv1\", \"Convolution1\")\n",
    "    conv.node(\"activation1\", 'Activation1')\n",
    "    conv.node(\"maxp1\", 'MaxPooling1')\n",
    "    conv.node(\"conv2\", 'Convolution2')\n",
    "    conv.node(\"activation2\", 'Activation2')\n",
    "    conv.node(\"maxp2\", 'MaxPooling2')\n",
    "    conv.node(\"flatten\", 'Flatten')\n",
    "    conv.attr(label=\"Feature Extraction (CNN process)\")\n",
    "\n",
    "with dot.subgraph(name='cluster_dnn_layer') as dnn:\n",
    "    dnn.node(\"fc\", 'FC_layer')\n",
    "    dnn.node(\"fc_ac\", 'Softmax')\n",
    "    dnn.attr(label=\"Feature Classification\", rank='same')\n",
    "    dnn.attr('node', shape='box')  # 상자 모양의 박스로 Feature Classification 부분을 표시\n",
    "\n",
    "dot.node(\"output\", 'Output')\n",
    "\n",
    "# 합성곱 레이어에 대한 연결\n",
    "dot.edge('image', 'conv1')\n",
    "dot.edge('conv1', 'activation1')\n",
    "dot.edge('activation1', 'maxp1')\n",
    "dot.edge('maxp1', 'conv2')\n",
    "dot.edge('conv2', 'activation2')\n",
    "dot.edge('activation2', 'maxp2')\n",
    "dot.edge('maxp2', 'flatten')\n",
    "\n",
    "# DNN 레이어에 대한 연결\n",
    "dot.edge('flatten', 'fc')\n",
    "dot.edge('fc', 'fc_ac')\n",
    "\n",
    "# 출력과의 연결\n",
    "dot.edge('fc_ac', 'output')\n",
    "\n",
    "dot.render('network_diagram', format='png', view=True)\n"
   ]
  },
  {
   "cell_type": "code",
   "execution_count": null,
   "metadata": {},
   "outputs": [],
   "source": []
  }
 ],
 "metadata": {
  "kernelspec": {
   "display_name": "myenv",
   "language": "python",
   "name": "python3"
  },
  "language_info": {
   "codemirror_mode": {
    "name": "ipython",
    "version": 3
   },
   "file_extension": ".py",
   "mimetype": "text/x-python",
   "name": "python",
   "nbconvert_exporter": "python",
   "pygments_lexer": "ipython3",
   "version": "3.11.9"
  }
 },
 "nbformat": 4,
 "nbformat_minor": 2
}
